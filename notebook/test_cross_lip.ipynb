{
 "cells": [
  {
   "cell_type": "markdown",
   "metadata": {},
   "source": [
    "# Check correctness of Cross-lipschitz implementation"
   ]
  },
  {
   "cell_type": "code",
   "execution_count": 8,
   "metadata": {},
   "outputs": [],
   "source": [
    "# load packages\n",
    "import os \n",
    "import sys\n",
    "sys.path.append('../')\n",
    "\n",
    "import torch\n",
    "import torch.nn as nn\n",
    "from torch.autograd.functional import jacobian"
   ]
  },
  {
   "cell_type": "code",
   "execution_count": 2,
   "metadata": {},
   "outputs": [],
   "source": [
    "# load file\n",
    "from src.data import load_xor_boundary\n",
    "from src.model import SLP\n"
   ]
  },
  {
   "cell_type": "code",
   "execution_count": 4,
   "metadata": {},
   "outputs": [
    {
     "data": {
      "text/plain": [
       "<All keys matched successfully>"
      ]
     },
     "execution_count": 4,
     "metadata": {},
     "output_type": "execute_result"
    }
   ],
   "source": [
    "# load model\n",
    "model = SLP(20, nl=nn.Sigmoid())\n",
    "model.load_state_dict(torch.load('../model/xor_step20_ts0.5_w20_lr1.0_nlSigmoid_lam0.01_regNone_e1200_b600_seed401/model.pt'))"
   ]
  },
  {
   "cell_type": "code",
   "execution_count": 5,
   "metadata": {},
   "outputs": [],
   "source": [
    "X_train, X_test, y_train, y_test = load_xor_boundary(seed=401)\n"
   ]
  },
  {
   "cell_type": "code",
   "execution_count": 36,
   "metadata": {},
   "outputs": [
    {
     "data": {
      "text/plain": [
       "torch.Size([1, 200, 2])"
      ]
     },
     "execution_count": 36,
     "metadata": {},
     "output_type": "execute_result"
    }
   ],
   "source": [
    "A = jacobian(lambda x: nn.Sigmoid()(model(x)).sum(axis=0), X_train)\n",
    "A.shape\n"
   ]
  },
  {
   "cell_type": "code",
   "execution_count": 26,
   "metadata": {},
   "outputs": [
    {
     "data": {
      "text/plain": [
       "torch.Size([200])"
      ]
     },
     "execution_count": 26,
     "metadata": {},
     "output_type": "execute_result"
    }
   ],
   "source": [
    "nn.Sigmoid()(model(X_train)).sum(axis=1).shape"
   ]
  },
  {
   "cell_type": "code",
   "execution_count": 23,
   "metadata": {},
   "outputs": [
    {
     "ename": "RuntimeError",
     "evalue": "mat1 and mat2 shapes cannot be multiplied (400x1 and 200x100)",
     "output_type": "error",
     "traceback": [
      "\u001b[0;31m---------------------------------------------------------------------------\u001b[0m",
      "\u001b[0;31mRuntimeError\u001b[0m                              Traceback (most recent call last)",
      "\u001b[0;32m<ipython-input-23-570a1b1f92d2>\u001b[0m in \u001b[0;36m<module>\u001b[0;34m\u001b[0m\n\u001b[0;32m----> 1\u001b[0;31m \u001b[0mjacobian\u001b[0m\u001b[0;34m(\u001b[0m\u001b[0;32mlambda\u001b[0m \u001b[0mx\u001b[0m\u001b[0;34m:\u001b[0m \u001b[0;34m(\u001b[0m\u001b[0mtorch\u001b[0m\u001b[0;34m.\u001b[0m\u001b[0mrandn\u001b[0m\u001b[0;34m(\u001b[0m\u001b[0;36m100\u001b[0m\u001b[0;34m,\u001b[0m \u001b[0;36m200\u001b[0m\u001b[0;34m)\u001b[0m \u001b[0;34m@\u001b[0m \u001b[0mx\u001b[0m\u001b[0;34m)\u001b[0m\u001b[0;34m.\u001b[0m\u001b[0msum\u001b[0m\u001b[0;34m(\u001b[0m\u001b[0maxis\u001b[0m\u001b[0;34m=\u001b[0m\u001b[0;36m1\u001b[0m\u001b[0;34m)\u001b[0m\u001b[0;34m,\u001b[0m \u001b[0mX_train\u001b[0m\u001b[0;34m.\u001b[0m\u001b[0mreshape\u001b[0m\u001b[0;34m(\u001b[0m\u001b[0;36m200\u001b[0m\u001b[0;34m,\u001b[0m \u001b[0;36m1\u001b[0m\u001b[0;34m,\u001b[0m \u001b[0;36m2\u001b[0m\u001b[0;34m)\u001b[0m\u001b[0;34m)\u001b[0m\u001b[0;34m\u001b[0m\u001b[0;34m\u001b[0m\u001b[0m\n\u001b[0m",
      "\u001b[0;32m~/opt/anaconda3/lib/python3.8/site-packages/torch/autograd/functional.py\u001b[0m in \u001b[0;36mjacobian\u001b[0;34m(func, inputs, create_graph, strict, vectorize, strategy)\u001b[0m\n\u001b[1;32m    589\u001b[0m         \u001b[0minputs\u001b[0m \u001b[0;34m=\u001b[0m \u001b[0m_grad_preprocess\u001b[0m\u001b[0;34m(\u001b[0m\u001b[0minputs\u001b[0m\u001b[0;34m,\u001b[0m \u001b[0mcreate_graph\u001b[0m\u001b[0;34m=\u001b[0m\u001b[0mcreate_graph\u001b[0m\u001b[0;34m,\u001b[0m \u001b[0mneed_graph\u001b[0m\u001b[0;34m=\u001b[0m\u001b[0;32mTrue\u001b[0m\u001b[0;34m)\u001b[0m\u001b[0;34m\u001b[0m\u001b[0;34m\u001b[0m\u001b[0m\n\u001b[1;32m    590\u001b[0m \u001b[0;34m\u001b[0m\u001b[0m\n\u001b[0;32m--> 591\u001b[0;31m         \u001b[0moutputs\u001b[0m \u001b[0;34m=\u001b[0m \u001b[0mfunc\u001b[0m\u001b[0;34m(\u001b[0m\u001b[0;34m*\u001b[0m\u001b[0minputs\u001b[0m\u001b[0;34m)\u001b[0m\u001b[0;34m\u001b[0m\u001b[0;34m\u001b[0m\u001b[0m\n\u001b[0m\u001b[1;32m    592\u001b[0m         is_outputs_tuple, outputs = _as_tuple(outputs,\n\u001b[1;32m    593\u001b[0m                                               \u001b[0;34m\"outputs of the user-provided function\"\u001b[0m\u001b[0;34m,\u001b[0m\u001b[0;34m\u001b[0m\u001b[0;34m\u001b[0m\u001b[0m\n",
      "\u001b[0;32m<ipython-input-23-570a1b1f92d2>\u001b[0m in \u001b[0;36m<lambda>\u001b[0;34m(x)\u001b[0m\n\u001b[0;32m----> 1\u001b[0;31m \u001b[0mjacobian\u001b[0m\u001b[0;34m(\u001b[0m\u001b[0;32mlambda\u001b[0m \u001b[0mx\u001b[0m\u001b[0;34m:\u001b[0m \u001b[0;34m(\u001b[0m\u001b[0mtorch\u001b[0m\u001b[0;34m.\u001b[0m\u001b[0mrandn\u001b[0m\u001b[0;34m(\u001b[0m\u001b[0;36m100\u001b[0m\u001b[0;34m,\u001b[0m \u001b[0;36m200\u001b[0m\u001b[0;34m)\u001b[0m \u001b[0;34m@\u001b[0m \u001b[0mx\u001b[0m\u001b[0;34m)\u001b[0m\u001b[0;34m.\u001b[0m\u001b[0msum\u001b[0m\u001b[0;34m(\u001b[0m\u001b[0maxis\u001b[0m\u001b[0;34m=\u001b[0m\u001b[0;36m1\u001b[0m\u001b[0;34m)\u001b[0m\u001b[0;34m,\u001b[0m \u001b[0mX_train\u001b[0m\u001b[0;34m.\u001b[0m\u001b[0mreshape\u001b[0m\u001b[0;34m(\u001b[0m\u001b[0;36m200\u001b[0m\u001b[0;34m,\u001b[0m \u001b[0;36m1\u001b[0m\u001b[0;34m,\u001b[0m \u001b[0;36m2\u001b[0m\u001b[0;34m)\u001b[0m\u001b[0;34m)\u001b[0m\u001b[0;34m\u001b[0m\u001b[0;34m\u001b[0m\u001b[0m\n\u001b[0m",
      "\u001b[0;31mRuntimeError\u001b[0m: mat1 and mat2 shapes cannot be multiplied (400x1 and 200x100)"
     ]
    }
   ],
   "source": [
    "jacobian(lambda x: (torch.randn(100, 200) @ x).sum(axis=1))"
   ]
  },
  {
   "cell_type": "code",
   "execution_count": 17,
   "metadata": {},
   "outputs": [
    {
     "data": {
      "text/plain": [
       "tensor([[ 0.3707],\n",
       "        [ 0.2861],\n",
       "        [ 0.5083],\n",
       "        [-0.5747],\n",
       "        [-0.5492],\n",
       "        [ 0.2415],\n",
       "        [ 0.1193],\n",
       "        [ 0.1283],\n",
       "        [-0.0260],\n",
       "        [-0.3598],\n",
       "        [ 0.3854],\n",
       "        [-0.5045],\n",
       "        [ 0.0432],\n",
       "        [ 0.3250],\n",
       "        [-0.0637],\n",
       "        [ 0.4779],\n",
       "        [ 0.3586],\n",
       "        [ 0.0141],\n",
       "        [-0.1379],\n",
       "        [ 0.3610],\n",
       "        [ 0.1348],\n",
       "        [ 0.3445],\n",
       "        [-0.7387],\n",
       "        [ 0.4159],\n",
       "        [ 0.4136],\n",
       "        [ 0.3835],\n",
       "        [ 0.2714],\n",
       "        [ 0.1808],\n",
       "        [ 0.3746],\n",
       "        [-0.0908],\n",
       "        [-0.3407],\n",
       "        [ 0.3414],\n",
       "        [ 0.5319],\n",
       "        [ 0.5359],\n",
       "        [ 0.4489],\n",
       "        [ 0.4641],\n",
       "        [-0.0661],\n",
       "        [-0.9098],\n",
       "        [ 0.5044],\n",
       "        [ 0.5076],\n",
       "        [ 0.2866],\n",
       "        [-0.0339],\n",
       "        [ 0.3675],\n",
       "        [-0.1986],\n",
       "        [ 0.3525],\n",
       "        [-0.7715],\n",
       "        [ 0.3215],\n",
       "        [ 0.3503],\n",
       "        [ 0.1184],\n",
       "        [-0.0497],\n",
       "        [-0.8135],\n",
       "        [ 0.5007],\n",
       "        [-0.1658],\n",
       "        [-0.1011],\n",
       "        [ 0.4159],\n",
       "        [-0.7677],\n",
       "        [-0.1527],\n",
       "        [-0.6340],\n",
       "        [ 0.2972],\n",
       "        [ 0.2567],\n",
       "        [ 0.4281],\n",
       "        [ 0.1098],\n",
       "        [ 0.2782],\n",
       "        [ 0.1638],\n",
       "        [ 0.3515],\n",
       "        [ 0.2746],\n",
       "        [-0.2739],\n",
       "        [ 0.2073],\n",
       "        [ 0.3264],\n",
       "        [ 0.3361],\n",
       "        [ 0.2188],\n",
       "        [-0.7473],\n",
       "        [-0.3929],\n",
       "        [-0.1103],\n",
       "        [-0.8285],\n",
       "        [ 0.2782],\n",
       "        [-0.6322],\n",
       "        [-0.4738],\n",
       "        [ 0.0450],\n",
       "        [-0.5681],\n",
       "        [ 0.3769],\n",
       "        [ 0.1730],\n",
       "        [-0.6866],\n",
       "        [ 0.3242],\n",
       "        [ 0.3304],\n",
       "        [-0.7209],\n",
       "        [-0.4133],\n",
       "        [ 0.3294],\n",
       "        [-0.5342],\n",
       "        [ 0.3543],\n",
       "        [ 0.2310],\n",
       "        [-0.0969],\n",
       "        [ 0.4526],\n",
       "        [-0.0349],\n",
       "        [ 0.1411],\n",
       "        [-0.7733],\n",
       "        [ 0.0859],\n",
       "        [ 0.0263],\n",
       "        [ 0.1527],\n",
       "        [-0.7098],\n",
       "        [ 0.5365],\n",
       "        [ 0.5142],\n",
       "        [-0.3619],\n",
       "        [ 0.1328],\n",
       "        [ 0.1983],\n",
       "        [-0.3769],\n",
       "        [ 0.5304],\n",
       "        [-0.2427],\n",
       "        [ 0.1876],\n",
       "        [ 0.4951],\n",
       "        [-0.2960],\n",
       "        [ 0.2403],\n",
       "        [ 0.3791],\n",
       "        [-0.4232],\n",
       "        [ 0.0489],\n",
       "        [ 0.2930],\n",
       "        [-0.3889],\n",
       "        [ 0.1591],\n",
       "        [ 0.2570],\n",
       "        [ 0.2263],\n",
       "        [ 0.5258],\n",
       "        [-0.6928],\n",
       "        [ 0.2678],\n",
       "        [-0.0183],\n",
       "        [ 0.3906],\n",
       "        [ 0.0941],\n",
       "        [-0.8758],\n",
       "        [-0.0067],\n",
       "        [-0.9529],\n",
       "        [-0.0142],\n",
       "        [ 0.3939],\n",
       "        [-0.3046],\n",
       "        [-0.0760],\n",
       "        [ 0.2030],\n",
       "        [-0.7084],\n",
       "        [ 0.3383],\n",
       "        [ 0.0036],\n",
       "        [ 0.0138],\n",
       "        [ 0.2585],\n",
       "        [-0.1250],\n",
       "        [ 0.1530],\n",
       "        [ 0.4333],\n",
       "        [ 0.1887],\n",
       "        [ 0.2368],\n",
       "        [ 0.4293],\n",
       "        [ 0.2305],\n",
       "        [ 0.0518],\n",
       "        [ 0.0910],\n",
       "        [ 0.2982],\n",
       "        [ 0.1485],\n",
       "        [ 0.3543],\n",
       "        [ 0.3550],\n",
       "        [ 0.3256],\n",
       "        [ 0.5069],\n",
       "        [ 0.5000],\n",
       "        [ 0.3889],\n",
       "        [ 0.3782],\n",
       "        [ 0.3837],\n",
       "        [-0.4425],\n",
       "        [ 0.5076],\n",
       "        [-0.7497],\n",
       "        [ 0.5244],\n",
       "        [-0.9039],\n",
       "        [ 0.4424],\n",
       "        [ 0.1633],\n",
       "        [ 0.3667],\n",
       "        [-0.8030],\n",
       "        [ 0.4471],\n",
       "        [ 0.1039],\n",
       "        [ 0.3987],\n",
       "        [-0.6050],\n",
       "        [-0.4557],\n",
       "        [ 0.3053],\n",
       "        [-0.1267],\n",
       "        [ 0.4943],\n",
       "        [ 0.4380],\n",
       "        [-0.3194],\n",
       "        [-0.6551],\n",
       "        [-0.8643],\n",
       "        [ 0.2024],\n",
       "        [ 0.4055],\n",
       "        [ 0.2349],\n",
       "        [ 0.2476],\n",
       "        [ 0.2063],\n",
       "        [ 0.1332],\n",
       "        [-0.6630],\n",
       "        [-0.9168],\n",
       "        [-0.9035],\n",
       "        [ 0.0496],\n",
       "        [ 0.2900],\n",
       "        [-0.4795],\n",
       "        [ 0.4186],\n",
       "        [ 0.0757],\n",
       "        [-0.2674],\n",
       "        [ 0.3583],\n",
       "        [ 0.0964],\n",
       "        [-0.3307],\n",
       "        [ 0.3203],\n",
       "        [ 0.4690],\n",
       "        [ 0.2992]], grad_fn=<MulBackward0>)"
      ]
     },
     "execution_count": 17,
     "metadata": {},
     "output_type": "execute_result"
    }
   ],
   "source": [
    "model(X_train)"
   ]
  },
  {
   "cell_type": "code",
   "execution_count": 18,
   "metadata": {},
   "outputs": [
    {
     "data": {
      "text/plain": [
       "torch.Size([200, 2])"
      ]
     },
     "execution_count": 18,
     "metadata": {},
     "output_type": "execute_result"
    }
   ],
   "source": [
    "X_train.shape"
   ]
  },
  {
   "cell_type": "code",
   "execution_count": null,
   "metadata": {},
   "outputs": [],
   "source": []
  }
 ],
 "metadata": {
  "interpreter": {
   "hash": "1dd9a8327b8d39e530f0668b939b0878965612aab65d60a6efbc80eb3e46f478"
  },
  "kernelspec": {
   "display_name": "Python 3.8.3 ('base')",
   "language": "python",
   "name": "python3"
  },
  "language_info": {
   "codemirror_mode": {
    "name": "ipython",
    "version": 3
   },
   "file_extension": ".py",
   "mimetype": "text/x-python",
   "name": "python",
   "nbconvert_exporter": "python",
   "pygments_lexer": "ipython3",
   "version": "3.8.3"
  },
  "orig_nbformat": 4
 },
 "nbformat": 4,
 "nbformat_minor": 2
}
